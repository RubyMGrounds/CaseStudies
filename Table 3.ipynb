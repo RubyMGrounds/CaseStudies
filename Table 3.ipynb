{
 "cells": [
  {
   "cell_type": "code",
   "execution_count": 28,
   "metadata": {},
   "outputs": [],
   "source": [
    "import pandas as pd\n",
    "import numpy as np\n",
    "import matplotlib as mt\n",
    "import glob as glob"
   ]
  },
  {
   "cell_type": "code",
   "execution_count": 29,
   "metadata": {},
   "outputs": [],
   "source": [
    "filenames = glob.glob('Combined_*[a,b,c,d,e,f,g,h,i,j,k]*160c.dta')\n",
    "list_of_all_dfs  = [pd.read_stata(f) for f in filenames]"
   ]
  },
  {
   "cell_type": "code",
   "execution_count": 30,
   "metadata": {},
   "outputs": [],
   "source": [
    "prev = [list_of_all_dfs[i].filter(regex='jbhrcpr$') for i in range(11)]\n",
    "sex = [list_of_all_dfs[i].filter(regex='hgsex$') for i in range(11)]\n",
    "job = [list_of_all_dfs[i].filter(regex='esbrd$') for i in range(11)]\n",
    "status = [list_of_all_dfs[i].filter(regex='esdtl$') for i in range(11)]\n",
    "\n",
    "#make them into DataFrames\n",
    "job = [pd.DataFrame(job[i]) for i in range(11)]\n",
    "sex = [pd.DataFrame(sex[i]) for i in range(11)]\n",
    "prev = [pd.DataFrame(prev[i]) for i in range(11)]\n",
    "status = [pd.DataFrame(status[i]) for i in range(11)]"
   ]
  },
  {
   "cell_type": "code",
   "execution_count": 31,
   "metadata": {},
   "outputs": [],
   "source": [
    "result1 = [pd.merge(prev[i], status[i], left_index=True, right_index=True) for i in range(11)]\n",
    "result1 = [pd.merge(result1[i], sex[i], left_index=True, right_index=True) for i in range(11)]"
   ]
  },
  {
   "cell_type": "code",
   "execution_count": 32,
   "metadata": {},
   "outputs": [],
   "source": [
    "#getting results for just full-time employed\n",
    "pt = [result1[i][result1[i].iloc[:, -2] == '[2] Employed PT'] for i in range(11)]\n",
    "# after this we will split into males and females "
   ]
  },
  {
   "cell_type": "code",
   "execution_count": 6,
   "metadata": {},
   "outputs": [],
   "source": [
    "# cutting down to females\n",
    "ptf = [pt[i][pt[i].iloc[:, -1] == '[2] Female'] for i in range(11)]"
   ]
  },
  {
   "cell_type": "code",
   "execution_count": 7,
   "metadata": {},
   "outputs": [],
   "source": [
    "#looking at just the jbhrcpr variable \n",
    "ptf1 = [ptf[i].filter(regex='jbhrcpr$') for i in range(11)]"
   ]
  },
  {
   "cell_type": "code",
   "execution_count": 8,
   "metadata": {},
   "outputs": [],
   "source": [
    "#getting a count for every variable\n",
    "ptf1 = [pd.DataFrame(ptf1[i].iloc[:,0].value_counts()) for i in range(11)]"
   ]
  },
  {
   "cell_type": "code",
   "execution_count": 9,
   "metadata": {},
   "outputs": [],
   "source": [
    "#getting total number of observations\n",
    "ftotal = [ptf1[i].sum() for i in range(11)]\n",
    "ftotal = [pd.DataFrame(ftotal[i]) for i in range(11)]\n",
    "ftotal = [ftotal[i].T for i in range(11)]"
   ]
  },
  {
   "cell_type": "code",
   "execution_count": 10,
   "metadata": {},
   "outputs": [],
   "source": [
    "# working out percentages\n",
    "percent = [pd.DataFrame(ptf[i].iloc[:,0].value_counts(normalize=True))*100 for i in range(11)]\n",
    "percent = [round(percent[i], 1) for i in range(11)]"
   ]
  },
  {
   "cell_type": "code",
   "execution_count": 11,
   "metadata": {},
   "outputs": [],
   "source": [
    "#dropping unwanted responses\n",
    "percent2 = [percent[i].drop(['[-1] Not asked', '[-1] Not asked', '[-10] Non-responding person', '[2] About the same', '[-3] Dont know', '[-4] Refused/Not stated'], errors='ignore') for i in range(11)]\n"
   ]
  },
  {
   "cell_type": "code",
   "execution_count": 12,
   "metadata": {},
   "outputs": [],
   "source": [
    "percent2 = [percent2[i].reindex(index = ['[1] Fewer hours', '[3] More hours']) for i in range(11)]"
   ]
  },
  {
   "cell_type": "code",
   "execution_count": 13,
   "metadata": {},
   "outputs": [],
   "source": [
    "#adding total into table\n",
    "final = [pd.concat([ftotal[i], percent2[i]]) for i in range(11)]\n"
   ]
  },
  {
   "cell_type": "code",
   "execution_count": 14,
   "metadata": {},
   "outputs": [],
   "source": [
    "# doing a manual merge for now :/\n",
    "merge0 = pd.merge(final[0], final[1], left_index=True, right_index=True)\n",
    "merge1 = pd.merge(merge0, final[2],left_index=True, right_index=True)\n",
    "merge2 = pd.merge(merge1, final[3],left_index=True, right_index=True)\n",
    "merge3 = pd.merge(merge2, final[4],left_index=True, right_index=True)\n",
    "merge4 = pd.merge(merge3, final[5],left_index=True, right_index=True)\n",
    "merge5 = pd.merge(merge4, final[6],left_index=True, right_index=True)\n",
    "merge6 = pd.merge(merge5, final[7],left_index=True, right_index=True)\n",
    "merge7 = pd.merge(merge6, final[8],left_index=True, right_index=True)\n",
    "merge8 = pd.merge(merge7, final[9],left_index=True, right_index=True)\n",
    "merge9 = pd.merge(merge8, final[10],left_index=True, right_index=True)\n",
    "\n",
    "\n",
    "# creating 'All' column\n",
    "all_ff = merge9.iloc[0,:].sum()\n",
    "all_less = merge9.iloc[1,:].mean()\n",
    "all_more = merge9.iloc[2,:].mean()\n",
    "allf = pd.DataFrame([all_ff, all_less, all_more])\n",
    "allf = round(allf, 1)\n",
    "allf.index = merge9.index\n",
    "\n",
    "merge9 = pd.merge(merge9, allf ,left_index=True, right_index=True)"
   ]
  },
  {
   "cell_type": "code",
   "execution_count": 15,
   "metadata": {},
   "outputs": [],
   "source": [
    "# transposing so that its facing the right way\n",
    "final_mergef = merge9.T\n",
    "\n",
    "#adding names to columns\n",
    "final_mergef.columns = ['All employed (number of observations)','Prefer to work less (%)', 'Prefer to work more (%)']"
   ]
  },
  {
   "cell_type": "code",
   "execution_count": 24,
   "metadata": {},
   "outputs": [],
   "source": [
    "# doing it for males\n",
    "# cutting down to females\n",
    "ptm = [pt[i][pt[i].iloc[:, -1] == '[1] Male'] for i in range(11)]\n",
    "\n",
    "#looking at just the jbhrcpr variable \n",
    "ptm1 = [ptm[i].filter(regex='jbhrcpr$') for i in range(11)]\n",
    "\n",
    "#getting a count for every variable\n",
    "ptm1 = [pd.DataFrame(ptm1[i].iloc[:,0].value_counts()) for i in range(11)]\n",
    "\n",
    "#getting total number of observations\n",
    "mtotal = [ptm1[i].sum() for i in range(11)]\n",
    "mtotal = [pd.DataFrame(mtotal[i]) for i in range(11)]\n",
    "mtotal = [mtotal[i].T for i in range(11)]\n",
    "\n",
    "# working out percentages\n",
    "mpercent = [pd.DataFrame(ptm[i].iloc[:,0].value_counts(normalize=True))*100 for i in range(11)]\n",
    "mpercent = [round(mpercent[i], 1) for i in range(11)]\n",
    "\n",
    "#dropping unwanted responses\n",
    "mpercent2 = [mpercent[i].drop(['[-1] Not asked', '[-1] Not asked', '[-10] Non-responding person', '[2] About the same', '[-3] Dont know', '[-4] Refused/Not stated'], errors='ignore') for i in range(11)]\n",
    "mpercent2 = [mpercent2[i].reindex(index = ['[1] Fewer hours', '[3] More hours']) for i in range(11)]\n",
    "\n",
    "#adding total into table\n",
    "finalm = [pd.concat([mtotal[i], mpercent2[i]]) for i in range(11)]\n",
    "\n",
    "\n",
    "# doing a manual merge for now :/\n",
    "mmerge0 = pd.merge(finalm[0], finalm[1], left_index=True, right_index=True)\n",
    "mmerge1 = pd.merge(mmerge0, finalm[2],left_index=True, right_index=True)\n",
    "mmerge2 = pd.merge(mmerge1, finalm[3],left_index=True, right_index=True)\n",
    "mmerge3 = pd.merge(mmerge2, finalm[4],left_index=True, right_index=True)\n",
    "mmerge4 = pd.merge(mmerge3, finalm[5],left_index=True, right_index=True)\n",
    "mmerge5 = pd.merge(mmerge4, finalm[6],left_index=True, right_index=True)\n",
    "mmerge6 = pd.merge(mmerge5, finalm[7],left_index=True, right_index=True)\n",
    "mmerge7 = pd.merge(mmerge6, finalm[8],left_index=True, right_index=True)\n",
    "mmerge8 = pd.merge(mmerge7, finalm[9],left_index=True, right_index=True)\n",
    "mmerge9 = pd.merge(mmerge8, finalm[10],left_index=True, right_index=True)\n",
    "\n",
    "# creating 'All' column\n",
    "all_mm = mmerge9.iloc[0,:].sum()\n",
    "all_less = mmerge9.iloc[1,:].mean()\n",
    "all_more = mmerge9.iloc[2,:].mean()\n",
    "allm = pd.DataFrame([all_mm, all_less, all_more])\n",
    "allm = round(allm, 1)\n",
    "allm.index = merge9.index\n",
    "\n",
    "mmerge9 = pd.merge(mmerge9, allm ,left_index=True, right_index=True)\n",
    "\n",
    "# transposing so that its facing the right way\n",
    "final_mergem = mmerge9.T\n",
    "\n",
    "#adding names to columns\n",
    "final_mergem.columns = ['All employed (number of observations)', 'Prefer to work less (%)', 'Prefer to work more (%)']"
   ]
  },
  {
   "cell_type": "code",
   "execution_count": 26,
   "metadata": {},
   "outputs": [],
   "source": [
    "final_table3 = pd.concat([final_mergem, final_mergef], axis=1)"
   ]
  },
  {
   "cell_type": "code",
   "execution_count": 27,
   "metadata": {},
   "outputs": [
    {
     "data": {
      "text/html": [
       "<div>\n",
       "<style scoped>\n",
       "    .dataframe tbody tr th:only-of-type {\n",
       "        vertical-align: middle;\n",
       "    }\n",
       "\n",
       "    .dataframe tbody tr th {\n",
       "        vertical-align: top;\n",
       "    }\n",
       "\n",
       "    .dataframe thead th {\n",
       "        text-align: right;\n",
       "    }\n",
       "</style>\n",
       "<table border=\"1\" class=\"dataframe\">\n",
       "  <thead>\n",
       "    <tr style=\"text-align: right;\">\n",
       "      <th></th>\n",
       "      <th>All employed (number of observations)</th>\n",
       "      <th>Prefer to work less (%)</th>\n",
       "      <th>Prefer to work more (%)</th>\n",
       "      <th>All employed (number of observations)</th>\n",
       "      <th>Prefer to work less (%)</th>\n",
       "      <th>Prefer to work more (%)</th>\n",
       "    </tr>\n",
       "  </thead>\n",
       "  <tbody>\n",
       "    <tr>\n",
       "      <th>2001 (1)</th>\n",
       "      <td>752.0</td>\n",
       "      <td>6.1</td>\n",
       "      <td>43.0</td>\n",
       "      <td>1975.0</td>\n",
       "      <td>9.8</td>\n",
       "      <td>29.5</td>\n",
       "    </tr>\n",
       "    <tr>\n",
       "      <th>2002 (2)</th>\n",
       "      <td>750.0</td>\n",
       "      <td>4.9</td>\n",
       "      <td>44.3</td>\n",
       "      <td>1890.0</td>\n",
       "      <td>8.4</td>\n",
       "      <td>30.4</td>\n",
       "    </tr>\n",
       "    <tr>\n",
       "      <th>2003 (3)</th>\n",
       "      <td>723.0</td>\n",
       "      <td>5.4</td>\n",
       "      <td>44.0</td>\n",
       "      <td>1871.0</td>\n",
       "      <td>9.1</td>\n",
       "      <td>31.5</td>\n",
       "    </tr>\n",
       "    <tr>\n",
       "      <th>2004 (4)</th>\n",
       "      <td>714.0</td>\n",
       "      <td>5.7</td>\n",
       "      <td>39.1</td>\n",
       "      <td>1831.0</td>\n",
       "      <td>8.7</td>\n",
       "      <td>29.1</td>\n",
       "    </tr>\n",
       "    <tr>\n",
       "      <th>2005 (5)</th>\n",
       "      <td>717.0</td>\n",
       "      <td>4.5</td>\n",
       "      <td>38.6</td>\n",
       "      <td>1973.0</td>\n",
       "      <td>9.1</td>\n",
       "      <td>29.7</td>\n",
       "    </tr>\n",
       "    <tr>\n",
       "      <th>2006 (6)</th>\n",
       "      <td>774.0</td>\n",
       "      <td>6.1</td>\n",
       "      <td>39.8</td>\n",
       "      <td>1949.0</td>\n",
       "      <td>9.6</td>\n",
       "      <td>27.0</td>\n",
       "    </tr>\n",
       "    <tr>\n",
       "      <th>2007 (7)</th>\n",
       "      <td>743.0</td>\n",
       "      <td>5.4</td>\n",
       "      <td>35.9</td>\n",
       "      <td>1930.0</td>\n",
       "      <td>9.2</td>\n",
       "      <td>28.8</td>\n",
       "    </tr>\n",
       "    <tr>\n",
       "      <th>2008 (8)</th>\n",
       "      <td>702.0</td>\n",
       "      <td>5.7</td>\n",
       "      <td>34.2</td>\n",
       "      <td>1940.0</td>\n",
       "      <td>9.2</td>\n",
       "      <td>26.4</td>\n",
       "    </tr>\n",
       "    <tr>\n",
       "      <th>2009 (9)</th>\n",
       "      <td>798.0</td>\n",
       "      <td>5.5</td>\n",
       "      <td>41.4</td>\n",
       "      <td>1961.0</td>\n",
       "      <td>7.8</td>\n",
       "      <td>28.1</td>\n",
       "    </tr>\n",
       "    <tr>\n",
       "      <th>2010 (10)</th>\n",
       "      <td>778.0</td>\n",
       "      <td>5.9</td>\n",
       "      <td>38.3</td>\n",
       "      <td>2013.0</td>\n",
       "      <td>8.0</td>\n",
       "      <td>29.2</td>\n",
       "    </tr>\n",
       "    <tr>\n",
       "      <th>2011 (11)</th>\n",
       "      <td>1055.0</td>\n",
       "      <td>5.4</td>\n",
       "      <td>40.3</td>\n",
       "      <td>2644.0</td>\n",
       "      <td>8.1</td>\n",
       "      <td>30.7</td>\n",
       "    </tr>\n",
       "    <tr>\n",
       "      <th>All</th>\n",
       "      <td>8506.0</td>\n",
       "      <td>5.5</td>\n",
       "      <td>39.9</td>\n",
       "      <td>21977.0</td>\n",
       "      <td>8.8</td>\n",
       "      <td>29.1</td>\n",
       "    </tr>\n",
       "  </tbody>\n",
       "</table>\n",
       "</div>"
      ],
      "text/plain": [
       "           All employed (number of observations)  Prefer to work less (%)  \\\n",
       "2001 (1)                                   752.0                      6.1   \n",
       "2002 (2)                                   750.0                      4.9   \n",
       "2003 (3)                                   723.0                      5.4   \n",
       "2004 (4)                                   714.0                      5.7   \n",
       "2005 (5)                                   717.0                      4.5   \n",
       "2006 (6)                                   774.0                      6.1   \n",
       "2007 (7)                                   743.0                      5.4   \n",
       "2008 (8)                                   702.0                      5.7   \n",
       "2009 (9)                                   798.0                      5.5   \n",
       "2010 (10)                                  778.0                      5.9   \n",
       "2011 (11)                                 1055.0                      5.4   \n",
       "All                                       8506.0                      5.5   \n",
       "\n",
       "           Prefer to work more (%)  All employed (number of observations)  \\\n",
       "2001 (1)                      43.0                                 1975.0   \n",
       "2002 (2)                      44.3                                 1890.0   \n",
       "2003 (3)                      44.0                                 1871.0   \n",
       "2004 (4)                      39.1                                 1831.0   \n",
       "2005 (5)                      38.6                                 1973.0   \n",
       "2006 (6)                      39.8                                 1949.0   \n",
       "2007 (7)                      35.9                                 1930.0   \n",
       "2008 (8)                      34.2                                 1940.0   \n",
       "2009 (9)                      41.4                                 1961.0   \n",
       "2010 (10)                     38.3                                 2013.0   \n",
       "2011 (11)                     40.3                                 2644.0   \n",
       "All                           39.9                                21977.0   \n",
       "\n",
       "           Prefer to work less (%)  Prefer to work more (%)  \n",
       "2001 (1)                       9.8                     29.5  \n",
       "2002 (2)                       8.4                     30.4  \n",
       "2003 (3)                       9.1                     31.5  \n",
       "2004 (4)                       8.7                     29.1  \n",
       "2005 (5)                       9.1                     29.7  \n",
       "2006 (6)                       9.6                     27.0  \n",
       "2007 (7)                       9.2                     28.8  \n",
       "2008 (8)                       9.2                     26.4  \n",
       "2009 (9)                       7.8                     28.1  \n",
       "2010 (10)                      8.0                     29.2  \n",
       "2011 (11)                      8.1                     30.7  \n",
       "All                            8.8                     29.1  "
      ]
     },
     "execution_count": 27,
     "metadata": {},
     "output_type": "execute_result"
    }
   ],
   "source": [
    "final_table3.index = [ '2001 (1)', '2002 (2)', '2003 (3)', '2004 (4)', '2005 (5)', '2006 (6)', '2007 (7)', '2008 (8)', '2009 (9)', '2010 (10)', '2011 (11)', 'All']\n",
    "final_table3"
   ]
  },
  {
   "cell_type": "code",
   "execution_count": null,
   "metadata": {},
   "outputs": [],
   "source": []
  },
  {
   "cell_type": "code",
   "execution_count": null,
   "metadata": {},
   "outputs": [],
   "source": []
  },
  {
   "cell_type": "code",
   "execution_count": null,
   "metadata": {},
   "outputs": [],
   "source": []
  },
  {
   "cell_type": "code",
   "execution_count": null,
   "metadata": {},
   "outputs": [],
   "source": []
  },
  {
   "cell_type": "code",
   "execution_count": null,
   "metadata": {},
   "outputs": [],
   "source": []
  }
 ],
 "metadata": {
  "kernelspec": {
   "display_name": "Python 3",
   "language": "python",
   "name": "python3"
  },
  "language_info": {
   "codemirror_mode": {
    "name": "ipython",
    "version": 3
   },
   "file_extension": ".py",
   "mimetype": "text/x-python",
   "name": "python",
   "nbconvert_exporter": "python",
   "pygments_lexer": "ipython3",
   "version": "3.7.6"
  }
 },
 "nbformat": 4,
 "nbformat_minor": 4
}
